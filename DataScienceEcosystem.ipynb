{
 "cells": [
  {
   "cell_type": "markdown",
   "id": "6cabc118-5b0b-4c63-9470-f1f3e9a91709",
   "metadata": {},
   "source": [
    "# Data Science Tools and Ecosystem"
   ]
  },
  {
   "cell_type": "markdown",
   "id": "ec904424-8b6d-4cd8-bfcf-c4566b19a6ad",
   "metadata": {},
   "source": [
    "In this notebook, Data Science Tools and Ecosystem are summarized."
   ]
  },
  {
   "cell_type": "markdown",
   "id": "4ed9d078-b2a4-4fab-ad9d-a5d53dbc8583",
   "metadata": {},
   "source": [
    "Objectives:\n",
    "- List popular languages for Data Science\n",
    "- List popular libraries used for Data Science\n",
    "- List popular tools used for Data Science\n",
    "- Show example arithmetic operation\n"
   ]
  },
  {
   "cell_type": "markdown",
   "id": "30b934d1-5bdf-4de9-99e4-adf288e221f0",
   "metadata": {},
   "source": [
    "Some of the popular languages that Data Scientists use are:\n",
    "1. python\n",
    "2. r\n",
    "3. sql\n",
    "4. julia\n",
    "5. java\n"
   ]
  },
  {
   "cell_type": "markdown",
   "id": "4c1709b5-aa13-40d3-b62b-96c984ace798",
   "metadata": {},
   "source": [
    "Some of the commonly used libraries used by Data Scientists include:\n",
    "1. pandas\n",
    "2. numpy\n",
    "3. matplotlib\n",
    "4. seaborn\n",
    "5. scikit-learn\n",
    "6. tensorflow\n",
    "7. pytorch\n"
   ]
  },
  {
   "cell_type": "markdown",
   "id": "4b2113a5-4de8-44ec-8a57-608c6c8f0800",
   "metadata": {},
   "source": [
    "| Data Science Tools|\n",
    "|-|\n",
    "| jupyter |\n",
    "| rstudio |\n",
    "| spyder |\n"
   ]
  },
  {
   "cell_type": "markdown",
   "id": "1bbe6129-49ce-4386-b4df-f6adb656f197",
   "metadata": {},
   "source": [
    "### Below are a few examples of evaluating arithmetic expressions in Python"
   ]
  },
  {
   "cell_type": "code",
   "execution_count": 1,
   "id": "748ffd09-fb06-42f1-8952-4fcf83738fce",
   "metadata": {},
   "outputs": [
    {
     "data": {
      "text/plain": [
       "17"
      ]
     },
     "execution_count": 1,
     "metadata": {},
     "output_type": "execute_result"
    }
   ],
   "source": [
    "# This a simple arithmetic expression to mutiply then add integers\n",
    "(3*4)+5"
   ]
  },
  {
   "cell_type": "code",
   "execution_count": 2,
   "id": "e2574d90-7679-4277-b314-c9348785ece2",
   "metadata": {},
   "outputs": [
    {
     "data": {
      "text/plain": [
       "3.3333333333333335"
      ]
     },
     "execution_count": 2,
     "metadata": {},
     "output_type": "execute_result"
    }
   ],
   "source": [
    "mins = 200\n",
    "#This will convert 200 minutes to hours by diving by 60\n",
    "hour = 200/60\n",
    "hour"
   ]
  },
  {
   "cell_type": "markdown",
   "id": "d9dd51c5-63e4-42a7-aef9-c9091c70bff7",
   "metadata": {},
   "source": [
    "## Author\n",
    "Akash Aravind A"
   ]
  }
 ],
 "metadata": {
  "kernelspec": {
   "display_name": "Python 3 (ipykernel)",
   "language": "python",
   "name": "python3"
  },
  "language_info": {
   "codemirror_mode": {
    "name": "ipython",
    "version": 3
   },
   "file_extension": ".py",
   "mimetype": "text/x-python",
   "name": "python",
   "nbconvert_exporter": "python",
   "pygments_lexer": "ipython3",
   "version": "3.11.9"
  }
 },
 "nbformat": 4,
 "nbformat_minor": 5
}
